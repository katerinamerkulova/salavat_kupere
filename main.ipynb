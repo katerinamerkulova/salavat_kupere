{
 "cells": [
  {
   "cell_type": "code",
   "execution_count": null,
   "outputs": [],
   "source": [
    "!pip install -r requirements.txt"
   ],
   "metadata": {
    "collapsed": false
   }
  },
  {
   "cell_type": "code",
   "execution_count": null,
   "outputs": [],
   "source": [
    "DATA_DIR = \"../../data/hackathon_files_for_participants_ozon\"\n",
    "MODEL_DIR = \"../models\"\n",
    "COLOR_DIR = \"../colors\""
   ],
   "metadata": {
    "collapsed": false
   }
  },
  {
   "cell_type": "markdown",
   "source": [
    "# Дообучение моделей для построения эмбеддингов\n",
    "- sentence-transformers/all-MiniLM-L6-v2\n",
    "- обучение на парах наименований\n",
    "- обучение на парах наименования + характеристики"
   ],
   "metadata": {
    "collapsed": false
   }
  },
  {
   "cell_type": "code",
   "execution_count": null,
   "outputs": [],
   "source": [
    "from pipeline.minilm_finetuning import run_training\n",
    "\n",
    "run_training(DATA_DIR=DATA_DIR, MODEL_DIR=MODEL_DIR, mode=\"FULL\")\n",
    "run_training(DATA_DIR=DATA_DIR, MODEL_DIR=MODEL_DIR, mode=\"NAME\")"
   ],
   "metadata": {
    "collapsed": false
   }
  },
  {
   "cell_type": "markdown",
   "source": [
    "# Предобработка цвета"
   ],
   "metadata": {
    "collapsed": false
   }
  },
  {
   "cell_type": "code",
   "execution_count": null,
   "outputs": [],
   "source": [
    "from pipeline.preprocess_colors import process_color\n",
    "\n",
    "process_color(DATA_DIR=DATA_DIR, COLOR_DIR=COLOR_DIR)"
   ],
   "metadata": {
    "collapsed": false
   }
  },
  {
   "cell_type": "markdown",
   "source": [
    "# Генерация признаков\n",
    "- построение эмбеддингов\n",
    "- рассчет дистанций между эмбеддингами текстов и картинок\n",
    "- обработка строк редакторским расстоянием\n",
    "- обработка характеристик\n",
    "- обработка цвета\n",
    "- обработка категорий"
   ],
   "metadata": {
    "collapsed": false
   }
  },
  {
   "cell_type": "code",
   "execution_count": null,
   "outputs": [],
   "source": [
    "from pipeline.feature_engineering import etl_data\n",
    "\n",
    "etl_data(DATA_DIR=DATA_DIR, MODEL_DIR=MODEL_DIR)"
   ],
   "metadata": {
    "collapsed": false
   }
  },
  {
   "cell_type": "markdown",
   "source": [
    "# Фильтрация значимых признаков"
   ],
   "metadata": {
    "collapsed": false
   }
  },
  {
   "cell_type": "markdown",
   "source": [
    "# Обучение классификаторов по категориям"
   ],
   "metadata": {
    "collapsed": false
   }
  },
  {
   "cell_type": "code",
   "execution_count": null,
   "outputs": [],
   "source": [
    "from pipeline.train_catboost import run_training\n",
    "\n",
    "run_training(DATA_DIR=DATA_DIR, MODEL_DIR=MODEL_DIR)"
   ],
   "metadata": {
    "collapsed": false
   }
  },
  {
   "cell_type": "markdown",
   "source": [
    "# Инференс"
   ],
   "metadata": {
    "collapsed": false
   }
  },
  {
   "cell_type": "code",
   "execution_count": null,
   "outputs": [],
   "source": [
    "from pipeline.inference import run_inference\n",
    "\n",
    "run_inference(DATA_DIR=DATA_DIR, MODEL_DIR=MODEL_DIR)"
   ],
   "metadata": {
    "collapsed": false
   }
  }
 ],
 "metadata": {
  "kernelspec": {
   "display_name": "Python 3",
   "language": "python",
   "name": "python3"
  },
  "language_info": {
   "codemirror_mode": {
    "name": "ipython",
    "version": 2
   },
   "file_extension": ".py",
   "mimetype": "text/x-python",
   "name": "python",
   "nbconvert_exporter": "python",
   "pygments_lexer": "ipython2",
   "version": "2.7.6"
  }
 },
 "nbformat": 4,
 "nbformat_minor": 0
}
